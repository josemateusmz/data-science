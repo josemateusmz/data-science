{
  "nbformat": 4,
  "nbformat_minor": 0,
  "metadata": {
    "colab": {
      "provenance": [],
      "authorship_tag": "ABX9TyOg5cJ8JLXcRiE8Y/tPermj",
      "include_colab_link": true
    },
    "kernelspec": {
      "name": "python3",
      "display_name": "Python 3"
    },
    "language_info": {
      "name": "python"
    }
  },
  "cells": [
    {
      "cell_type": "markdown",
      "metadata": {
        "id": "view-in-github",
        "colab_type": "text"
      },
      "source": [
        "<a href=\"https://colab.research.google.com/github/josemateusmz/data-science/blob/main/Untitled0.ipynb\" target=\"_parent\"><img src=\"https://colab.research.google.com/assets/colab-badge.svg\" alt=\"Open In Colab\"/></a>"
      ]
    },
    {
      "cell_type": "code",
      "execution_count": 62,
      "metadata": {
        "id": "gKg_e8i-AUno"
      },
      "outputs": [],
      "source": []
    },
    {
      "cell_type": "markdown",
      "source": [
        "1. Digite os comandos na sequência"
      ],
      "metadata": {
        "id": "pM7pZ7_oDPHE"
      }
    },
    {
      "cell_type": "markdown",
      "source": [],
      "metadata": {
        "id": "0nZSXTjiIqp_"
      }
    },
    {
      "cell_type": "code",
      "source": [
        "palavras = [\"codigo\", \"linguagem\", \"web\"];\n",
        "numeros = [18, 123];\n",
        "vazia = [];\n",
        "lista_mista = [\"oi\", 2.0, 5*2, [10,20]];"
      ],
      "metadata": {
        "id": "ZcypdruJAW_S"
      },
      "execution_count": 63,
      "outputs": []
    },
    {
      "cell_type": "markdown",
      "source": [
        "2. Digite os comandos na sequência"
      ],
      "metadata": {
        "id": "q1DoAqTDD4gC"
      }
    },
    {
      "cell_type": "code",
      "source": [
        "print(numeros);\n",
        "print(lista_mista);\n",
        "nova_lista = [numeros, palavras];\n",
        "print(nova_lista + lista_mista);"
      ],
      "metadata": {
        "colab": {
          "base_uri": "https://localhost:8080/"
        },
        "id": "7BiopcSlEMZ0",
        "outputId": "2834937d-ca3c-4473-b09c-5cc45eb67df3"
      },
      "execution_count": 64,
      "outputs": [
        {
          "output_type": "stream",
          "name": "stdout",
          "text": [
            "[18, 123]\n",
            "['oi', 2.0, 10, [10, 20]]\n",
            "[[18, 123], ['codigo', 'linguagem', 'web'], 'oi', 2.0, 10, [10, 20]]\n"
          ]
        }
      ]
    },
    {
      "cell_type": "markdown",
      "source": [
        "3. O que é impresso pelo trecho de código a seguir?\n"
      ],
      "metadata": {
        "id": "SsXdjydiHVZl"
      }
    },
    {
      "cell_type": "code",
      "source": [
        "numeros = [18, 424, 86, 13, 66, 8338, 74];\n",
        "print(numeros[2]);\n",
        "print(numeros[9-8]);\n",
        "print(numeros[-2]);"
      ],
      "metadata": {
        "colab": {
          "base_uri": "https://localhost:8080/"
        },
        "id": "S4qq_rXnHdSt",
        "outputId": "614706e0-62d1-464f-912f-2869d8a6b880"
      },
      "execution_count": 65,
      "outputs": [
        {
          "output_type": "stream",
          "name": "stdout",
          "text": [
            "86\n",
            "424\n",
            "8338\n"
          ]
        }
      ]
    },
    {
      "cell_type": "markdown",
      "source": [
        "4. O que é impresso pelo trecho de código a seguir?"
      ],
      "metadata": {
        "id": "iLwxIRBEH6Qt"
      }
    },
    {
      "cell_type": "code",
      "source": [
        "uma_lista = [3, 5, \"Cibele\", 3.14, False];\n",
        "print(len(uma_lista));"
      ],
      "metadata": {
        "colab": {
          "base_uri": "https://localhost:8080/"
        },
        "id": "ucaNTiqxH9uN",
        "outputId": "4033757b-1afa-4961-8dee-e13eaa038b97"
      },
      "execution_count": 66,
      "outputs": [
        {
          "output_type": "stream",
          "name": "stdout",
          "text": [
            "5\n"
          ]
        }
      ]
    },
    {
      "cell_type": "markdown",
      "source": [
        "5.  O que é impresso pelo trecho de código a seguir?"
      ],
      "metadata": {
        "id": "hiye3tm-Irpq"
      }
    },
    {
      "cell_type": "code",
      "source": [
        "uma_lista = [3, 5, \"Cibele\", [88, 99, \"Suely\"], [ ], 3.14, False];\n",
        "print(len(uma_lista));"
      ],
      "metadata": {
        "colab": {
          "base_uri": "https://localhost:8080/"
        },
        "id": "SttScn5UIu9O",
        "outputId": "25c1f3b4-4891-4285-d6ba-6a423416a07e"
      },
      "execution_count": 67,
      "outputs": [
        {
          "output_type": "stream",
          "name": "stdout",
          "text": [
            "7\n"
          ]
        }
      ]
    },
    {
      "cell_type": "markdown",
      "source": [
        "6. O que é impresso pelo trecho de código a seguir?"
      ],
      "metadata": {
        "id": "mrqGL9IHI2RV"
      }
    },
    {
      "cell_type": "code",
      "source": [
        "uma_lista = [3, 5, \"Cibele\", [88, 99, \"Suely\"], [ ], 3.14, False];\n",
        "print(uma_lista[5]);"
      ],
      "metadata": {
        "colab": {
          "base_uri": "https://localhost:8080/"
        },
        "id": "h13Vm7FzJANs",
        "outputId": "b319d23a-5dcc-4b60-d59f-8d33600418f9"
      },
      "execution_count": 68,
      "outputs": [
        {
          "output_type": "stream",
          "name": "stdout",
          "text": [
            "3.14\n"
          ]
        }
      ]
    },
    {
      "cell_type": "markdown",
      "source": [
        "7. O que é impresso pelo trecho de código a seguir?"
      ],
      "metadata": {
        "id": "M5ISR4FdJIdq"
      }
    },
    {
      "cell_type": "code",
      "source": [
        "uma_lista = [3, 5, \"Cibele\", [88, 99, \"Suely\"], [ ], 3.14, False];\n",
        "print(uma_lista[2].upper());"
      ],
      "metadata": {
        "colab": {
          "base_uri": "https://localhost:8080/"
        },
        "id": "Dynu4cOdJvQ3",
        "outputId": "51e3dbe0-2ec4-4ac1-e692-c7997578fe37"
      },
      "execution_count": 69,
      "outputs": [
        {
          "output_type": "stream",
          "name": "stdout",
          "text": [
            "CIBELE\n"
          ]
        }
      ]
    },
    {
      "cell_type": "markdown",
      "source": [
        "8. O que é impresso pelo trecho de código a seguir?"
      ],
      "metadata": {
        "id": "UEuoAXK2N-Wf"
      }
    },
    {
      "cell_type": "code",
      "source": [
        "uma_lista = [3, 5, \"Cibele\", [88, 99, \"Suely\"], [ ], 3.14, False];\n",
        "print(uma_lista[2][0]);"
      ],
      "metadata": {
        "colab": {
          "base_uri": "https://localhost:8080/"
        },
        "id": "WIK3Hwx4OH86",
        "outputId": "d2d7fcc7-9142-4e0d-8317-fc4c44e6c8eb"
      },
      "execution_count": 70,
      "outputs": [
        {
          "output_type": "stream",
          "name": "stdout",
          "text": [
            "C\n"
          ]
        }
      ]
    },
    {
      "cell_type": "markdown",
      "source": [
        "9. O que é impresso pelo trecho de código a seguir?"
      ],
      "metadata": {
        "id": "RMGjq7SOOkhP"
      }
    },
    {
      "cell_type": "code",
      "source": [
        "uma_lista = [3, 5, \"Cibele\", [88, 99, \"Suely\"], [ ], 3.14, False];\n",
        "print(3.14 in uma_lista);"
      ],
      "metadata": {
        "colab": {
          "base_uri": "https://localhost:8080/"
        },
        "id": "S9ZO5sKPPMIH",
        "outputId": "e3b68ee3-6607-4ba4-f036-6bf0398eddf1"
      },
      "execution_count": 71,
      "outputs": [
        {
          "output_type": "stream",
          "name": "stdout",
          "text": [
            "True\n"
          ]
        }
      ]
    },
    {
      "cell_type": "markdown",
      "source": [
        "10. O que é impresso pelo trecho de código a seguir?"
      ],
      "metadata": {
        "id": "IHdZlkfcPw5n"
      }
    },
    {
      "cell_type": "code",
      "source": [
        "uma_lista = [3, 5, \"Cibele\", [88, 99, \"Suely\"], [ ], 3.14, False];\n",
        "print(88 in uma_lista);"
      ],
      "metadata": {
        "colab": {
          "base_uri": "https://localhost:8080/"
        },
        "id": "qeRKegGFP0BO",
        "outputId": "784053d4-94f5-4eae-8676-616dca140b65"
      },
      "execution_count": 72,
      "outputs": [
        {
          "output_type": "stream",
          "name": "stdout",
          "text": [
            "False\n"
          ]
        }
      ]
    },
    {
      "cell_type": "markdown",
      "source": [
        "11. O que é impresso pelo trecho de código a seguir?"
      ],
      "metadata": {
        "id": "rQO8r-_SQFRM"
      }
    },
    {
      "cell_type": "code",
      "source": [
        "uma_lista = [1, 3, 5];\n",
        "outra_lista = [2, 4, 6];\n",
        "print(uma_lista + outra_lista);"
      ],
      "metadata": {
        "colab": {
          "base_uri": "https://localhost:8080/"
        },
        "id": "uUZ7S48QQIcG",
        "outputId": "db05e571-acc2-4f74-fe43-df45ceeebf7e"
      },
      "execution_count": 73,
      "outputs": [
        {
          "output_type": "stream",
          "name": "stdout",
          "text": [
            "[1, 3, 5, 2, 4, 6]\n"
          ]
        }
      ]
    },
    {
      "cell_type": "markdown",
      "source": [
        "12. O que é impresso pelo trecho de código a seguir?"
      ],
      "metadata": {
        "id": "RQPeARc0QRKA"
      }
    },
    {
      "cell_type": "code",
      "source": [
        "uma_lista = [1, 3, 5];\n",
        "print(uma_lista * 3);"
      ],
      "metadata": {
        "colab": {
          "base_uri": "https://localhost:8080/"
        },
        "id": "iN_gK4WRQT9J",
        "outputId": "9af82572-3182-406b-efba-25f67d0a5903"
      },
      "execution_count": 74,
      "outputs": [
        {
          "output_type": "stream",
          "name": "stdout",
          "text": [
            "[1, 3, 5, 1, 3, 5, 1, 3, 5]\n"
          ]
        }
      ]
    },
    {
      "cell_type": "markdown",
      "source": [
        "13. O que é impresso pelo trecho de código a seguir?"
      ],
      "metadata": {
        "id": "7DzPMcN0QZut"
      }
    },
    {
      "cell_type": "code",
      "source": [
        "uma_lista = [3, 5, \"Cibele\", [88, 99, \"Suely\"], [ ], 3.14, False];\n",
        "print(uma_lista[4:]);"
      ],
      "metadata": {
        "colab": {
          "base_uri": "https://localhost:8080/"
        },
        "id": "1nx0GywKQcBy",
        "outputId": "4933f6cd-2004-4bb2-c4b8-c29709041fa5"
      },
      "execution_count": 75,
      "outputs": [
        {
          "output_type": "stream",
          "name": "stdout",
          "text": [
            "[[], 3.14, False]\n"
          ]
        }
      ]
    },
    {
      "cell_type": "markdown",
      "source": [
        "14. O que é impresso pelo trecho de código a seguir?"
      ],
      "metadata": {
        "id": "h75yz_UUQhT8"
      }
    },
    {
      "cell_type": "code",
      "source": [
        "uma_lista = ['a', 'b', 'c', 'd', 'e', 'f'];\n",
        "uma_lista[1:3] = ['x', 'y'];\n",
        "print(uma_lista);"
      ],
      "metadata": {
        "colab": {
          "base_uri": "https://localhost:8080/"
        },
        "id": "m1CPsqmMQkHH",
        "outputId": "49a0ae72-e9d7-4b83-a298-9f38c8499f68"
      },
      "execution_count": 76,
      "outputs": [
        {
          "output_type": "stream",
          "name": "stdout",
          "text": [
            "['a', 'x', 'y', 'd', 'e', 'f']\n"
          ]
        }
      ]
    },
    {
      "cell_type": "markdown",
      "source": [
        "15. O que é impresso pelo trecho de código a seguir?"
      ],
      "metadata": {
        "id": "9RrQIR7LQrIV"
      }
    },
    {
      "cell_type": "code",
      "source": [
        "uma_lista = ['a', 'b', 'c', 'd', 'e', 'f'];\n",
        "uma_lista[1:3] = [];\n",
        "print(uma_lista);"
      ],
      "metadata": {
        "colab": {
          "base_uri": "https://localhost:8080/"
        },
        "id": "RqE__TY8QtWT",
        "outputId": "38e42cf9-0c90-4ea6-c85a-be613357deb5"
      },
      "execution_count": 77,
      "outputs": [
        {
          "output_type": "stream",
          "name": "stdout",
          "text": [
            "['a', 'd', 'e', 'f']\n"
          ]
        }
      ]
    },
    {
      "cell_type": "markdown",
      "source": [
        "16. O que é impresso pelo trecho de código a seguir?"
      ],
      "metadata": {
        "id": "fLMT01F7Q5Vj"
      }
    },
    {
      "cell_type": "code",
      "source": [
        "uma_lista = ['a', 'd', 'f'];\n",
        "uma_lista[1:1] = ['b', 'c'];\n",
        "print(uma_lista);\n",
        "uma_lista[4:4] = ['e'];\n",
        "print(uma_lista);"
      ],
      "metadata": {
        "colab": {
          "base_uri": "https://localhost:8080/"
        },
        "id": "HnyPoG24Q7k0",
        "outputId": "a076e0e2-8e93-4b8d-b685-32d47781d727"
      },
      "execution_count": 78,
      "outputs": [
        {
          "output_type": "stream",
          "name": "stdout",
          "text": [
            "['a', 'b', 'c', 'd', 'f']\n",
            "['a', 'b', 'c', 'd', 'e', 'f']\n"
          ]
        }
      ]
    },
    {
      "cell_type": "markdown",
      "source": [
        "17. O que é impresso pelo trecho de código a seguir?"
      ],
      "metadata": {
        "id": "uWzm0mHBRDef"
      }
    },
    {
      "cell_type": "code",
      "source": [
        "uma_lista = [4, 1, 8, 6, 3];\n",
        "uma_lista[2] = True;\n",
        "print(uma_lista);"
      ],
      "metadata": {
        "colab": {
          "base_uri": "https://localhost:8080/"
        },
        "id": "7tKDtR9kRFeV",
        "outputId": "950466fe-ec78-435a-ff2e-a47fd16c4f5b"
      },
      "execution_count": 79,
      "outputs": [
        {
          "output_type": "stream",
          "name": "stdout",
          "text": [
            "[4, 1, True, 6, 3]\n"
          ]
        }
      ]
    },
    {
      "cell_type": "markdown",
      "source": [
        "18. O que é impresso pelo trecho de código a seguir?"
      ],
      "metadata": {
        "id": "rp7gTRP9RM54"
      }
    },
    {
      "cell_type": "code",
      "source": [
        "a = ['um', 'dois', 'três'];\n",
        "del a[1];\n",
        "print(a);\n",
        "lista = ['a', 'b', 'c', 'd', 'e', 'f'];\n",
        "del lista[1:5];\n",
        "print(lista);"
      ],
      "metadata": {
        "colab": {
          "base_uri": "https://localhost:8080/"
        },
        "id": "6PC5rWGlRPek",
        "outputId": "860700d7-79ab-460c-86c8-38f21884052c"
      },
      "execution_count": 80,
      "outputs": [
        {
          "output_type": "stream",
          "name": "stdout",
          "text": [
            "['um', 'três']\n",
            "['a', 'f']\n"
          ]
        }
      ]
    },
    {
      "cell_type": "markdown",
      "source": [
        "19. O que é impresso pelo trecho de código a seguir?"
      ],
      "metadata": {
        "id": "uopD802CRrdw"
      }
    },
    {
      "cell_type": "code",
      "source": [
        "lista_a = [4, 1, 8, 6, 3];\n",
        "lista_b = lista_a;\n",
        "lista_b[3] = 22;\n",
        "print(lista_a);"
      ],
      "metadata": {
        "colab": {
          "base_uri": "https://localhost:8080/"
        },
        "id": "vCXJYvtyRtxs",
        "outputId": "ee9e4310-ba14-40ef-9750-5360aaa45c7e"
      },
      "execution_count": 81,
      "outputs": [
        {
          "output_type": "stream",
          "name": "stdout",
          "text": [
            "[4, 1, 8, 22, 3]\n"
          ]
        }
      ]
    },
    {
      "cell_type": "markdown",
      "source": [
        "20. O que é impresso pelo trecho de código a seguir?"
      ],
      "metadata": {
        "id": "VBUkvfDTR93n"
      }
    },
    {
      "cell_type": "code",
      "source": [
        "lista_original = [5, 6, 7, 8];\n",
        "print(lista_original*3);"
      ],
      "metadata": {
        "colab": {
          "base_uri": "https://localhost:8080/"
        },
        "id": "QdRCMWgwSAYa",
        "outputId": "eacbbbbd-132e-44ae-bf01-eaa030b24c0b"
      },
      "execution_count": 82,
      "outputs": [
        {
          "output_type": "stream",
          "name": "stdout",
          "text": [
            "[5, 6, 7, 8, 5, 6, 7, 8, 5, 6, 7, 8]\n"
          ]
        }
      ]
    },
    {
      "cell_type": "markdown",
      "source": [
        "21. O que é impresso pelo trecho de código a seguir?"
      ],
      "metadata": {
        "id": "oaqYuAIiSHvA"
      }
    },
    {
      "cell_type": "code",
      "source": [
        "lista_original = [5, 6, 7, 8];\n",
        "print(lista_original*3);\n",
        "lista_nova = [lista_original] * 3;\n",
        "print(lista_nova);"
      ],
      "metadata": {
        "colab": {
          "base_uri": "https://localhost:8080/"
        },
        "id": "MD6UJ89gSOdB",
        "outputId": "8b020e2c-421c-4a6e-8d44-d2942d937a9c"
      },
      "execution_count": 83,
      "outputs": [
        {
          "output_type": "stream",
          "name": "stdout",
          "text": [
            "[5, 6, 7, 8, 5, 6, 7, 8, 5, 6, 7, 8]\n",
            "[[5, 6, 7, 8], [5, 6, 7, 8], [5, 6, 7, 8]]\n"
          ]
        }
      ]
    },
    {
      "cell_type": "markdown",
      "source": [
        "22. O que é impresso pelo trecho de código a seguir?"
      ],
      "metadata": {
        "id": "hKjuzn_SSZ1z"
      }
    },
    {
      "cell_type": "code",
      "source": [
        "lista_original = [5, 6, 7, 8];\n",
        "lista_nova = [lista_original] * 3;\n",
        "print(lista_nova);\n",
        "lista_original[1] = 22;\n",
        "print(lista_nova);"
      ],
      "metadata": {
        "colab": {
          "base_uri": "https://localhost:8080/"
        },
        "id": "dBuGyI_3ScBE",
        "outputId": "1ef19782-3634-47ef-eaac-0fdf979f98f6"
      },
      "execution_count": 84,
      "outputs": [
        {
          "output_type": "stream",
          "name": "stdout",
          "text": [
            "[[5, 6, 7, 8], [5, 6, 7, 8], [5, 6, 7, 8]]\n",
            "[[5, 22, 7, 8], [5, 22, 7, 8], [5, 22, 7, 8]]\n"
          ]
        }
      ]
    },
    {
      "cell_type": "markdown",
      "source": [
        "23. O que é impresso pelo trecho de código a seguir?"
      ],
      "metadata": {
        "id": "gjMZRYfLSl4b"
      }
    },
    {
      "cell_type": "code",
      "source": [
        "lista_a = [4, 1, 8, 6, 3];\n",
        "lista_b = lista_a * 2;\n",
        "lista_b[3] = 35;\n",
        "print(lista_a);"
      ],
      "metadata": {
        "colab": {
          "base_uri": "https://localhost:8080/"
        },
        "id": "Abdm5EGiSoEJ",
        "outputId": "d1891402-6770-4fba-c2a8-e4c896bc33ed"
      },
      "execution_count": 85,
      "outputs": [
        {
          "output_type": "stream",
          "name": "stdout",
          "text": [
            "[4, 1, 8, 6, 3]\n"
          ]
        }
      ]
    },
    {
      "cell_type": "markdown",
      "source": [
        "24. O que é impresso pelo trecho de código a seguir?"
      ],
      "metadata": {
        "id": "ry3sCG5CSvCI"
      }
    },
    {
      "cell_type": "code",
      "source": [
        "lista_a = [4, 1, 8, 6, 3];\n",
        "lista_b = [lista_a] * 2;\n",
        "lista_a[3] = 35;\n",
        "print(lista_b);"
      ],
      "metadata": {
        "colab": {
          "base_uri": "https://localhost:8080/"
        },
        "id": "8hN_cadiSxHK",
        "outputId": "6c951cd0-7b5d-4e47-9f44-23217c15a871"
      },
      "execution_count": 86,
      "outputs": [
        {
          "output_type": "stream",
          "name": "stdout",
          "text": [
            "[[4, 1, 8, 35, 3], [4, 1, 8, 35, 3]]\n"
          ]
        }
      ]
    },
    {
      "cell_type": "markdown",
      "source": [
        "25. O que é impresso pelo trecho de código a seguir?"
      ],
      "metadata": {
        "id": "BV2jnCZnS2bp"
      }
    },
    {
      "cell_type": "code",
      "source": [
        "uma_lista = [4, 1, 8, 6, 3];\n",
        "uma_lista.append(True);\n",
        "uma_lista.append(False);\n",
        "print(uma_lista);"
      ],
      "metadata": {
        "colab": {
          "base_uri": "https://localhost:8080/"
        },
        "id": "bn3YeFbyS4bT",
        "outputId": "887453ca-6da0-43c7-f9bb-debe69826002"
      },
      "execution_count": 87,
      "outputs": [
        {
          "output_type": "stream",
          "name": "stdout",
          "text": [
            "[4, 1, 8, 6, 3, True, False]\n"
          ]
        }
      ]
    },
    {
      "cell_type": "markdown",
      "source": [
        "26. O que é impresso pelo trecho de código a seguir?"
      ],
      "metadata": {
        "id": "rBS7j2M5S9KJ"
      }
    },
    {
      "cell_type": "code",
      "source": [
        "uma_lista = [4, 1, 8, 6, 3];\n",
        "uma_lista.insert(2,True);\n",
        "uma_lista.insert(0,False);\n",
        "print(uma_lista);"
      ],
      "metadata": {
        "colab": {
          "base_uri": "https://localhost:8080/"
        },
        "id": "UJYCLLYOTBW5",
        "outputId": "6c68bef1-859e-40db-ffb4-5050d6fc20f7"
      },
      "execution_count": 88,
      "outputs": [
        {
          "output_type": "stream",
          "name": "stdout",
          "text": [
            "[False, 4, 1, True, 8, 6, 3]\n"
          ]
        }
      ]
    },
    {
      "cell_type": "markdown",
      "source": [
        "27. O que é impresso pelo trecho de código a seguir?"
      ],
      "metadata": {
        "id": "B-H7NoOHTGHn"
      }
    },
    {
      "cell_type": "code",
      "source": [
        "uma_lista = [4, 1, 8, 6, 3];\n",
        "temp = uma_lista.pop(2);\n",
        "temp = uma_lista.pop();\n",
        "print(uma_lista);"
      ],
      "metadata": {
        "colab": {
          "base_uri": "https://localhost:8080/"
        },
        "id": "ojnENp7MTINQ",
        "outputId": "8092e716-1c74-4370-e101-5fc5092e610e"
      },
      "execution_count": 89,
      "outputs": [
        {
          "output_type": "stream",
          "name": "stdout",
          "text": [
            "[4, 1, 6]\n"
          ]
        }
      ]
    },
    {
      "cell_type": "markdown",
      "source": [
        "28. O que é impresso pelo trecho de código a seguir?"
      ],
      "metadata": {
        "id": "cLAQJxnkTT5Z"
      }
    },
    {
      "cell_type": "code",
      "source": [
        "uma_lista = [4, 1, 8, 6, 3];\n",
        "uma_lista = uma_lista.pop(0);\n",
        "print(uma_lista);"
      ],
      "metadata": {
        "colab": {
          "base_uri": "https://localhost:8080/"
        },
        "id": "IFJdYz5xTX9Z",
        "outputId": "496c5005-65e8-462a-cf13-b4f9545b7a5f"
      },
      "execution_count": 90,
      "outputs": [
        {
          "output_type": "stream",
          "name": "stdout",
          "text": [
            "4\n"
          ]
        }
      ]
    }
  ]
}